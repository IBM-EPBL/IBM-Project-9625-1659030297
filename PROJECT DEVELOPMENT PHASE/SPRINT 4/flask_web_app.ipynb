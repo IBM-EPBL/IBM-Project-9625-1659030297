{
  "nbformat": 4,
  "nbformat_minor": 0,
  "metadata": {
    "colab": {
      "provenance": []
    },
    "kernelspec": {
      "name": "python3",
      "display_name": "Python 3"
    },
    "language_info": {
      "name": "python"
    }
  },
  "cells": [
    {
      "cell_type": "code",
      "execution_count": null,
      "metadata": {
        "id": "8QyKS4HHTGxM"
      },
      "outputs": [],
      "source": [
        "import pickle\n",
        "loaded_class = pickle. load(open('randomclass_chronic', 'rb'))\n",
        "loaded_reg = pickle. load(open('randomreg_chronic', 'rb'))"
      ]
    },
    {
      "cell_type": "code",
      "source": [
        "import numpy as np"
      ],
      "metadata": {
        "id": "AEDGHYSdT81f"
      },
      "execution_count": null,
      "outputs": []
    },
    {
      "cell_type": "code",
      "source": [
        "import pandas as pd\n"
      ],
      "metadata": {
        "id": "ydi1E4TgT_mA"
      },
      "execution_count": null,
      "outputs": []
    },
    {
      "cell_type": "code",
      "source": [
        "from flask import Flask, request, redirect, render_template\n",
        "app = Flask(__name__)\n",
        "@app.route(\"/\",methods=['GET', 'POST'])\n",
        "def index():\n",
        "    return render_template('index.html')\n",
        "@app.route(\"/val\",methods=['POST'])\n",
        "\n",
        "def val():\n",
        "    test=[]\n",
        "    if request.method == 'POST':\n",
        "        test.append(request.form.get(\"age\"))\n",
        "        test.append(request.form.get(\"bp\"))\n",
        "        test.append(request.form.get(\"sg\"))\n",
        "        test.append(request.form.get(\"al\"))\n",
        "        test.append(request.form.get(\"su\"))\n",
        "        rb=request.form.get(\"rbc\")\n",
        "        if rb=='abnormal':\n",
        "            test.append(1)\n",
        "        else:\n",
        "            test.append(0)\n",
        "        pc=request.form.get(\"pc\")\n",
        "        if pc=='abnormal':\n",
        "            test.append(1)\n",
        "        else:\n",
        "            test.append(0)\n",
        "        pcc=request.form.get(\"pcc\")\n",
        "        if pcc=='present':\n",
        "            test.append(1)\n",
        "        else:\n",
        "            test.append(0)\n",
        "        ba=request.form.get(\"ba\")\n",
        "        if ba=='present':\n",
        "            test.append(1)\n",
        "        else:\n",
        "            test.append(0)\n",
        "        test.append(request.form.get(\"bgr\"))\n",
        "        test.append(request.form.get(\"bu\"))\n",
        "        test.append(request.form.get(\"sc\"))\n",
        "        test.append(request.form.get(\"sod\"))\n",
        "        test.append(request.form.get(\"pot\"))\n",
        "        test.append(request.form.get(\"hemo\"))\n",
        "        test.append(request.form.get(\"pcv\"))\n",
        "        test.append(request.form.get(\"wc\"))\n",
        "        test.append(request.form.get(\"rc\"))\n",
        "        ht=request.form.get(\"htn\")\n",
        "        if ht=='yes':\n",
        "            test.append(1)\n",
        "        else:\n",
        "            test.append(0)\n",
        "        d=request.form.get(\"dm\")\n",
        "        if d=='yes':\n",
        "            test.append(1)\n",
        "        else:\n",
        "            test.append(0)\n",
        "        ca=request.form.get(\"cad\")\n",
        "        if ca=='yes':\n",
        "            test.append(1)\n",
        "        else:\n",
        "            test.append(0)\n",
        "        ap=request.form.get(\"appet\")\n",
        "        if ap=='good':\n",
        "            test.append(1)\n",
        "        elif ap=='poor':\n",
        "            test.append(0)\n",
        "        else:\n",
        "            test.append(np.nan)\n",
        "        p=request.form.get(\"pe\")\n",
        "        if p=='yes':\n",
        "            test.append(1)\n",
        "        else:\n",
        "            test.append(0)\n",
        "        an=request.form.get(\"ane\")\n",
        "        if an=='yes':\n",
        "            test.append(1)\n",
        "        else:\n",
        "            test.append(0)\n",
        "    print(test)\n",
        "    test_df=pd.DataFrame(test)\n",
        "    test_df=np.array(test_df).reshape(1, -1)\n",
        "    \n",
        "    ans1=loaded_class.predict(test_df)\n",
        "    ans2=loaded_reg.predict(test_df)\n",
        "    if int(ans1)==1:\n",
        "        answer1=\"Sorry to say!! You have CHRONIC DISEASE!!!\"\n",
        "        return render_template('rename.html',answer1=answer1,answer2=ans2)\n",
        "    else:\n",
        "        answer1=\"Happy to say that you don't have CHRONIC DISEASE\"\n",
        "\n",
        "        return render_template('rename2.html',answer1=answer1,answer2=ans2)\n",
        "    \n",
        "if __name__ == \"__main__\":\n",
        "    app.debug=True\n",
        "    app.run(debug=False)"
      ],
      "metadata": {
        "colab": {
          "base_uri": "https://localhost:8080/"
        },
        "id": "6COkit8WUCL2",
        "outputId": "0aa1a1e4-3760-498c-b0c5-248dc9e9650f"
      },
      "execution_count": null,
      "outputs": [
        {
          "output_type": "stream",
          "name": "stdout",
          "text": [
            " * Serving Flask app \"__main__\" (lazy loading)\n",
            " * Environment: production\n",
            "\u001b[31m   WARNING: This is a development server. Do not use it in a production deployment.\u001b[0m\n",
            "\u001b[2m   Use a production WSGI server instead.\u001b[0m\n",
            " * Debug mode: off\n"
          ]
        },
        {
          "output_type": "stream",
          "name": "stderr",
          "text": [
            "INFO:werkzeug: * Running on http://127.0.0.1:5000/ (Press CTRL+C to quit)\n"
          ]
        }
      ]
    }
  ]
}